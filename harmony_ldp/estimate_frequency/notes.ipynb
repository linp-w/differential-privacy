{
 "cells": [
  {
   "cell_type": "code",
   "execution_count": 19,
   "metadata": {},
   "outputs": [
    {
     "name": "stdout",
     "output_type": "stream",
     "text": [
      "-----------  0  -----------\n",
      "m = 925\n",
      "sum = 1.000090803982019\n",
      "[0.8000726431856153, 0.20001816079640386]\n",
      "-----------  1  -----------\n",
      "m = 925\n",
      "sum = 1.0000908039820193\n",
      "[0.6000544823892116, 0.40003632159280766]\n",
      "-----------  2  -----------\n",
      "m = 925\n",
      "sum = 1.6001452863712307\n",
      "[0.8000726431856153, 0.8000726431856153]\n",
      "-----------  3  -----------\n",
      "m = 925\n",
      "sum = 1.000090803982019\n",
      "[1.000090803982019, 0.0]\n",
      "-----------  4  -----------\n",
      "m = 925\n",
      "sum = 1.2001089647784229\n",
      "[1.000090803982019, 0.20001816079640386]\n",
      "error bound: 0.06073614619083051\n"
     ]
    }
   ],
   "source": [
    "from bassily import *\n",
    "\n",
    "tp = [1, 1, 1, 1, 1, 1, 1, 1, 2, 2]\n",
    "k = 2\n",
    "epsilon = 10\n",
    "beta = 0.05\n",
    "for i in range(5):\n",
    "    print('----------- ', i, ' -----------')\n",
    "    print(bassily_method(tp, k, epsilon, beta))\n",
    "\n",
    "print(\"error bound:\", math.sqrt(math.log(k/beta)) /\n",
    "      (epsilon * math.sqrt(len(tp))))\n"
   ]
  },
  {
   "cell_type": "markdown",
   "metadata": {},
   "source": [
    "> However, we found that although Bassily and Smith’s method achieves optimal asymptotic accuracy, in practice its accuracy tends to be **unstable**, especially for relatively **small** categorical domains. The reason is that the random projection matrix $\\phi$ introduces considerable noise, in particular, the inner product of two different columns is often non-zero unless k is very large, which is magnified by a large number of users n.\n",
    "\n"
   ]
  }
 ],
 "metadata": {
  "interpreter": {
   "hash": "0b10732f36f0c7ee268c916eed80e8a29a951c3ee8547cf7e99fc772b02d047a"
  },
  "kernelspec": {
   "display_name": "Python 3.7.0 ('harmony_ldp')",
   "language": "python",
   "name": "python3"
  },
  "language_info": {
   "codemirror_mode": {
    "name": "ipython",
    "version": 3
   },
   "file_extension": ".py",
   "mimetype": "text/x-python",
   "name": "python",
   "nbconvert_exporter": "python",
   "pygments_lexer": "ipython3",
   "version": "3.7.0"
  },
  "orig_nbformat": 4
 },
 "nbformat": 4,
 "nbformat_minor": 2
}
